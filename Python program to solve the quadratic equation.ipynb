{
 "cells": [
  {
   "cell_type": "code",
   "execution_count": 1,
   "metadata": {},
   "outputs": [
    {
     "name": "stdout",
     "output_type": "stream",
     "text": [
      "Enter the value of a:1\n",
      "Enter the value of b:4\n",
      "Enter the value of c:2\n",
      "The roots are\n",
      "(-3.414213562373095+0j)\n",
      "(-0.5857864376269049+0j)\n"
     ]
    }
   ],
   "source": [
    "import cmath\n",
    "\n",
    "a=int(input(\"Enter the value of a:\"))\n",
    "\n",
    "b=int(input(\"Enter the value of b:\"))\n",
    "\n",
    "c=int(input(\"Enter the value of c:\"))\n",
    "\n",
    "# calculating  the discriminant\n",
    "d = (b**2) - (4 * a*c)\n",
    "\n",
    "# find two results \n",
    "\n",
    "ans1 = (-b-cmath.sqrt(d))/(2 * a) \n",
    "ans2 = (-b + cmath.sqrt(d))/(2 * a) \n",
    "\n",
    "# printing the results \n",
    "\n",
    "print('The roots are') \n",
    "\n",
    "print(ans1) \n",
    "print(ans2) "
   ]
  },
  {
   "cell_type": "code",
   "execution_count": null,
   "metadata": {},
   "outputs": [],
   "source": []
  }
 ],
 "metadata": {
  "kernelspec": {
   "display_name": "Python 3",
   "language": "python",
   "name": "python3"
  },
  "language_info": {
   "codemirror_mode": {
    "name": "ipython",
    "version": 3
   },
   "file_extension": ".py",
   "mimetype": "text/x-python",
   "name": "python",
   "nbconvert_exporter": "python",
   "pygments_lexer": "ipython3",
   "version": "3.7.3"
  }
 },
 "nbformat": 4,
 "nbformat_minor": 2
}
