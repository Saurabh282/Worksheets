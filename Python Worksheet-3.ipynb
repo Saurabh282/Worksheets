{
 "cells": [
  {
   "cell_type": "markdown",
   "metadata": {},
   "source": [
    "\n",
    "\n",
    "Ans:1 NO option will raise a value error.\n",
    "\n",
    "Ans:2 (C)\n",
    "\n",
    "Ans:3 (B)\n",
    "\n",
    "Ans:4 (A)\n",
    "\n",
    "Ans:5 (C)\n",
    "\n",
    "Ans:6 (D)\n",
    "\n",
    "Ans:7 (B)\n",
    "\n",
    "Ans:8 (B)\n",
    "\n",
    "Ans:9 (A),(B),(C),(D)\n",
    "\n",
    "Ans:10 (B),(C),(D)\n"
   ]
  },
  {
   "cell_type": "markdown",
   "metadata": {},
   "source": [
    "## Ans:11"
   ]
  },
  {
   "cell_type": "code",
   "execution_count": 2,
   "metadata": {},
   "outputs": [
    {
     "name": "stdout",
     "output_type": "stream",
     "text": [
      "        * \r\n",
      "       * * \r\n",
      "      * * * \r\n",
      "     * * * * \r\n",
      "    * * * * * \r\n"
     ]
    }
   ],
   "source": [
    "# Function to demonstrate printing pattern triangle \n",
    "def triangle(n): \n",
    "\n",
    "    # number of spaces \n",
    "    k = 2*n - 2\n",
    "\n",
    "# outer loop to handle number of rows \n",
    "    for i in range(0, n): \n",
    "\n",
    "# inner loop to handle number spaces \n",
    "# values changing acc. to requirement \n",
    "        for j in range(0, k): \n",
    "            print(end=\" \") \n",
    "\n",
    "# decrementing k after each loop \n",
    "        k = k - 1\n",
    "\n",
    "# inner loop to handle number of columns \n",
    "# values changing acc. to outer loop \n",
    "        for j in range(0, i+1): \n",
    "\n",
    "    # printing stars \n",
    "            print(\"* \", end=\"\") \n",
    "\n",
    "# ending line after each row \n",
    "        print(\"\\r\") \n",
    "\n",
    "# Driver Code \n",
    "n = 5\n",
    "triangle(n)"
   ]
  },
  {
   "cell_type": "markdown",
   "metadata": {},
   "source": [
    "## Ans:12"
   ]
  },
  {
   "cell_type": "code",
   "execution_count": 3,
   "metadata": {},
   "outputs": [
    {
     "name": "stdout",
     "output_type": "stream",
     "text": [
      "1 2 3 4 5 \n",
      " 2 3 4 5 \n",
      "  3 4 5 \n",
      "   4 5 \n",
      "    5 \n",
      "   4 5 \n",
      "  3 4 5 \n",
      " 2 3 4 5 \n",
      "1 2 3 4 5 \n"
     ]
    }
   ],
   "source": [
    "# Function definition \n",
    "def pattern(rows_no): \n",
    "  \n",
    "    # for loop for printing upper half \n",
    "    for i in range(1, rows_no + 1):  \n",
    "  \n",
    "        # printing i spaces at the  \n",
    "        # beginning of each row \n",
    "        for k in range(1, i): \n",
    "            print(\" \", end = \"\") \n",
    "          \n",
    "        # printing i to rows value \n",
    "        # at the end of each row \n",
    "        for j in range(i, rows_no + 1):  \n",
    "            print(j, end = \" \")  \n",
    "  \n",
    "        print() \n",
    "      \n",
    "    # for loop for printing lower half \n",
    "    for i in range(rows_no - 1, 0, -1):  \n",
    "  \n",
    "        # printing i spaces at the \n",
    "        # beginning of each row \n",
    "        for k in range(1, i): \n",
    "            print(\" \", end = \"\") \n",
    "          \n",
    "        # printing i to rows value \n",
    "        # at the end of each row \n",
    "        for j in range(i, rows_no + 1): \n",
    "            print(j, end = \" \") \n",
    "  \n",
    "        print() \n",
    "      \n",
    "# Driver code \n",
    "  \n",
    "# taking rows value from the user \n",
    "rows_no = 5\n",
    "  \n",
    "pattern(rows_no)"
   ]
  },
  {
   "cell_type": "markdown",
   "metadata": {},
   "source": [
    "## Ans:13"
   ]
  },
  {
   "cell_type": "code",
   "execution_count": 5,
   "metadata": {},
   "outputs": [
    {
     "name": "stdout",
     "output_type": "stream",
     "text": [
      "1 \n",
      "1 1 \n",
      "1 2 1 \n",
      "1 3 3 1 \n",
      "1 4 6 4 1 \n",
      "1 5 10 10 5 1 \n",
      "1 6 15 20 15 6 1 \n"
     ]
    }
   ],
   "source": [
    "def print_pascal_triangle(size):\n",
    "    for i in range(0, size):\n",
    "        for j in range(0, i + 1):\n",
    "            print(decide_number(i, j), end=\" \")\n",
    "        print()\n",
    "\n",
    "def decide_number(n, k):\n",
    "    num = 1\n",
    "    if k > n - k:\n",
    "        k = n - k\n",
    "    for i in range(0, k):\n",
    "        num = num * (n - i)\n",
    "        num = num // (i + 1)\n",
    "    return num\n",
    "\n",
    "rows = 7\n",
    "print_pascal_triangle(rows)\n"
   ]
  },
  {
   "cell_type": "markdown",
   "metadata": {},
   "source": [
    "## Ans:14"
   ]
  },
  {
   "cell_type": "code",
   "execution_count": 6,
   "metadata": {},
   "outputs": [
    {
     "name": "stdout",
     "output_type": "stream",
     "text": [
      "      *\n",
      "     ***\n",
      "    *****\n",
      "   *******\n",
      "  *********\n",
      " ***********\n",
      "*************\n",
      " ***********\n",
      "  *********\n",
      "   *******\n",
      "    *****\n",
      "     ***\n",
      "      *\n"
     ]
    }
   ],
   "source": [
    "def Diamond(rows): \n",
    "    n = 0\n",
    "    for i in range(1, rows + 1): \n",
    "        # loop to print spaces \n",
    "        for j in range (1, (rows - i) + 1): \n",
    "            print(end = \" \") \n",
    "\n",
    "        # loop to print star \n",
    "        while n != (2 * i - 1): \n",
    "            print(\"*\", end = \"\") \n",
    "            n = n + 1\n",
    "        n = 0\n",
    "\n",
    "        # line break \n",
    "        print() \n",
    "\n",
    "    k = 1\n",
    "    n = 1\n",
    "    for i in range(1, rows): \n",
    "        # loop to print spaces \n",
    "        for j in range (1, k + 1): \n",
    "            print(end = \" \") \n",
    "        k = k + 1\n",
    "\n",
    "        # loop to print star \n",
    "        while n <= (2 * (rows - i) - 1): \n",
    "            print(\"*\", end = \"\") \n",
    "            n = n + 1\n",
    "        n = 1\n",
    "        print() \n",
    "\n",
    "# Driver Code \n",
    "# number of rows input \n",
    "rows = 7\n",
    "Diamond(rows)"
   ]
  },
  {
   "cell_type": "markdown",
   "metadata": {},
   "source": [
    "## Ans:15"
   ]
  },
  {
   "cell_type": "code",
   "execution_count": 11,
   "metadata": {},
   "outputs": [
    {
     "name": "stdout",
     "output_type": "stream",
     "text": [
      "    a\n",
      "   aaa\n",
      "  aaaaa\n",
      " aaaaaaa\n",
      "aaaaaaaaa\n",
      " aaaaaaa\n",
      "  aaaaa\n",
      "   aaa\n",
      "    a\n"
     ]
    }
   ],
   "source": [
    "def Diamond(rows): \n",
    "    n = 0\n",
    "    for i in range(1, rows + 1): \n",
    "        # loop to print spaces \n",
    "        for j in range (1, (rows - i) + 1): \n",
    "            print(end = \" \") \n",
    "          \n",
    "        # loop to print \n",
    "        while n != (2 * i - 1): \n",
    "            print(\"a\", end = \"\") \n",
    "            n = n + 1\n",
    "        n = 0\n",
    "          \n",
    "        # line break \n",
    "        print()  \n",
    "  \n",
    "    k = 1\n",
    "    n = 1\n",
    "    for i in range(1, rows): \n",
    "        # loop to print spaces \n",
    "        for j in range (1, k + 1): \n",
    "            print(end = \" \") \n",
    "        k = k + 1\n",
    "          \n",
    "        # loop to print \n",
    "        while n <= (2 * (rows - i) - 1): \n",
    "            print(\"a\", end = \"\") \n",
    "            n = n + 1\n",
    "        n = 1\n",
    "        print() \n",
    "  \n",
    " # Driver Code \n",
    "# number of rows input \n",
    "rows = 5\n",
    "Diamond(rows) "
   ]
  },
  {
   "cell_type": "code",
   "execution_count": null,
   "metadata": {},
   "outputs": [],
   "source": []
  }
 ],
 "metadata": {
  "kernelspec": {
   "display_name": "Python 3",
   "language": "python",
   "name": "python3"
  },
  "language_info": {
   "codemirror_mode": {
    "name": "ipython",
    "version": 3
   },
   "file_extension": ".py",
   "mimetype": "text/x-python",
   "name": "python",
   "nbconvert_exporter": "python",
   "pygments_lexer": "ipython3",
   "version": "3.7.3"
  }
 },
 "nbformat": 4,
 "nbformat_minor": 2
}
