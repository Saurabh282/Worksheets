{
 "cells": [
  {
   "cell_type": "markdown",
   "metadata": {},
   "source": [
    "Ans:14"
   ]
  },
  {
   "cell_type": "code",
   "execution_count": 1,
   "metadata": {},
   "outputs": [
    {
     "name": "stdout",
     "output_type": "stream",
     "text": [
      "10000+2000+300+40+5\n"
     ]
    }
   ],
   "source": [
    "a = 12345\n",
    "\n",
    "def expanded_form(num):\n",
    "    result = []\n",
    "    divider = 10\n",
    "    while divider < num:\n",
    "        temp = num%divider\n",
    "        if temp != 0:\n",
    "            result.insert(0, str(temp))\n",
    "        num -= temp\n",
    "        divider *= 10\n",
    "    result.insert(0, str(num))\n",
    "    return '+'.join(result)\n",
    "\n",
    "print(expanded_form(a))"
   ]
  },
  {
   "cell_type": "markdown",
   "metadata": {},
   "source": [
    "Ans:15"
   ]
  },
  {
   "cell_type": "code",
   "execution_count": 2,
   "metadata": {},
   "outputs": [
    {
     "name": "stdout",
     "output_type": "stream",
     "text": [
      "Please enter the number: 147\n",
      "The number 147 is not Armstrong Number\n"
     ]
    }
   ],
   "source": [
    "num= int(input(\"Please enter the number: \"))\n",
    "sum=0\n",
    "x=num\n",
    "while num>0:\n",
    "    d=num%10\n",
    "    num=num//10\n",
    "    sum=sum+(d*d*d)\n",
    "if(x==sum):\n",
    "    print(\"The number\",x,\"is Armstrong Number\")\n",
    "else:\n",
    "    print(\"The number\",x,\"is not Armstrong Number\")"
   ]
  },
  {
   "cell_type": "code",
   "execution_count": null,
   "metadata": {},
   "outputs": [],
   "source": []
  }
 ],
 "metadata": {
  "kernelspec": {
   "display_name": "Python 3",
   "language": "python",
   "name": "python3"
  },
  "language_info": {
   "codemirror_mode": {
    "name": "ipython",
    "version": 3
   },
   "file_extension": ".py",
   "mimetype": "text/x-python",
   "name": "python",
   "nbconvert_exporter": "python",
   "pygments_lexer": "ipython3",
   "version": "3.7.3"
  }
 },
 "nbformat": 4,
 "nbformat_minor": 2
}
